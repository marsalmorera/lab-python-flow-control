{
 "cells": [
  {
   "cell_type": "markdown",
   "id": "d3bfc191-8885-42ee-b0a0-bbab867c6f9f",
   "metadata": {
    "tags": []
   },
   "source": [
    "# Lab | Flow Control"
   ]
  },
  {
   "cell_type": "markdown",
   "id": "3851fcd1-cf98-4653-9c89-e003b7ec9400",
   "metadata": {},
   "source": [
    "## Exercise: Managing Customer Orders Optimized\n",
    "\n",
    "In the last lab, you were starting an online store that sells various products. To ensure smooth operations, you developed a program that manages customer orders and inventory.\n",
    "\n",
    "You did so without using flow control. Let's go a step further and improve this code.\n",
    "\n",
    "Follow the steps below to complete the exercise:\n",
    "\n",
    "1. Look at your code from the lab data structures, and improve repeated code with loops.\n",
    "\n",
    "2. Instead of asking the user to input the name of three products that a customer wants to order, do the following:\n",
    "    \n",
    "    a. Prompt the user to enter the name of a product that a customer wants to order.\n",
    "    \n",
    "    b. Add the product name to the \"customer_orders\" set.\n",
    "    \n",
    "    c. Ask the user if they want to add another product (yes/no).\n",
    "    \n",
    "    d. Continue the loop until the user does not want to add another product.\n",
    "\n",
    "3. Instead of updating the inventory by subtracting 1 from the quantity of each product, only do it for  the products that were ordered (those in \"customer_orders\")."
   ]
  },
  {
   "cell_type": "code",
   "execution_count": 2,
   "id": "30d21ea5-b4b4-45c3-8c12-56f339ab9f36",
   "metadata": {},
   "outputs": [
    {
     "name": "stdin",
     "output_type": "stream",
     "text": [
      "How many t-shirtss are in stock? Please enter an integer. 5\n",
      "How many mugs are in stock? Please enter an integer. 5\n",
      "How many hats are in stock? Please enter an integer. 5\n",
      "How many books are in stock? Please enter an integer. 5\n",
      "How many keychains are in stock? Please enter an integer. 5\n"
     ]
    }
   ],
   "source": [
    "# 1. Look at your code. \n",
    "products = [\"t-shirts\", \"mug\", \"hat\", \"book\", \"keychain\"]\n",
    "inventory = {}\n",
    "for product in products: \n",
    "    quantity = int(input(f\"How many {product}s are in stock? Please enter an integer.\"))\n",
    "    inventory[product] = quantity"
   ]
  },
  {
   "cell_type": "code",
   "execution_count": 42,
   "id": "0cd701df-3fa4-4ddd-83de-df1ba34a16fe",
   "metadata": {},
   "outputs": [
    {
     "name": "stdin",
     "output_type": "stream",
     "text": [
      "Input the name of a product you would like to order from this list:\n",
      "t-shirt, mug, hat book, keychain: t-shirt\n",
      "Input the name of a product you would like to order from this list:\n",
      "t-shirt, mug, hat book, keychain: mug\n",
      "Input the name of a product you would like to order from this list:\n",
      "t-shirt, mug, hat book, keychain: hat\n"
     ]
    }
   ],
   "source": [
    "# 2.A. Add the product name to the \"customer_orders\" set. \n",
    "customer_orders = set()\n",
    "for i in range(3):\n",
    "    order = input(\"Input the name of a product you would like to order from this list:\\nt-shirt, mug, hat book, keychain:\")\n",
    "    customer_orders.add(order)"
   ]
  },
  {
   "cell_type": "code",
   "execution_count": 52,
   "id": "7c3ddd8d-c392-4041-9d36-792e947aca1c",
   "metadata": {},
   "outputs": [
    {
     "name": "stdout",
     "output_type": "stream",
     "text": [
      "{'mug', 'hat', 't-shirt', 'book'}\n"
     ]
    },
    {
     "name": "stdin",
     "output_type": "stream",
     "text": [
      "Do you want to add another product from this list:\n",
      "t-shirt, mug, hat, book, keychain: book\n",
      "Do you want to add anything else: no\n"
     ]
    }
   ],
   "source": [
    "# How to add yes or no answer which not affect the len of the products. \n",
    "print(customer_orders)\n",
    "for i in range(1):\n",
    "    order = input(\"Do you want to add another product from this list:\\nt-shirt, mug, hat, book, keychain:\")\n",
    "    customer_orders.add(order)\n",
    "    order = input(\"Do you want to add anything else:\")\n",
    "    customer_orders.add(order)"
   ]
  },
  {
   "cell_type": "code",
   "execution_count": 54,
   "id": "845f73a9-4827-4d14-9ff5-1a0299d174d0",
   "metadata": {},
   "outputs": [
    {
     "name": "stdout",
     "output_type": "stream",
     "text": [
      "5\n"
     ]
    }
   ],
   "source": [
    "total_products = len(customer_orders)\n",
    "print(total_products)"
   ]
  },
  {
   "cell_type": "code",
   "execution_count": 56,
   "id": "b2d0c731-156a-47f3-a653-9c64f9799bb1",
   "metadata": {},
   "outputs": [
    {
     "name": "stdout",
     "output_type": "stream",
     "text": [
      "{'t-shirt': 1, 'mug': 1, 'hat': 1, 'book': 1}\n"
     ]
    }
   ],
   "source": [
    "# Add one to customer_orders (How to add them authomatically) \n",
    "num = 1 \n",
    "total_products_ordered ={\"t-shirt\": num, \"mug\": num, \"hat\": num, \"book\": num}\n",
    "print(total_products_ordered)"
   ]
  },
  {
   "cell_type": "code",
   "execution_count": 60,
   "id": "7e1b1852-95f1-4ffc-885d-0a8c15e84d6a",
   "metadata": {},
   "outputs": [
    {
     "name": "stdout",
     "output_type": "stream",
     "text": [
      "Total products ordered: 4\n",
      "Percentage of products sold: 16.00%\n"
     ]
    }
   ],
   "source": [
    "# Print \n",
    "total_available_products = sum(inventory.values())\n",
    "total_customer_ordered = sum(total_products_ordered.values())\n",
    "percentage_ordered = (total_customer_ordered / total_available_products)*100\n",
    "order_status = (total_customer_ordered, percentage_ordered)\n",
    "\n",
    "print(f\"Total products ordered: {order_status[0]}\")\n",
    "print(f\"Percentage of products sold: {order_status[1]:.2f}%\")"
   ]
  },
  {
   "cell_type": "code",
   "execution_count": 62,
   "id": "678c912c-9511-4a66-a9b3-f5bfeb521bf9",
   "metadata": {},
   "outputs": [],
   "source": [
    "updated_inventory = inventory.copy()\n",
    "for item, quantity in total_products_ordered.items():\n",
    "    if item in updated_inventory:\n",
    "        updated_inventory[item] -= quantity\n",
    "\n",
    "total_available_products = sum(updated_inventory.values())"
   ]
  },
  {
   "cell_type": "code",
   "execution_count": 70,
   "id": "b0c049a4-d36d-4d01-abd9-e2d391742417",
   "metadata": {},
   "outputs": [
    {
     "name": "stdout",
     "output_type": "stream",
     "text": [
      "Updated Inventory:\n",
      "T-shirts: 5\n",
      "Mug: 4\n",
      "Hat: 4\n",
      "Book: 4\n",
      "Keychain: 5\n"
     ]
    }
   ],
   "source": [
    "print(\"Updated Inventory:\")\n",
    "for product, quantity in updated_inventory.items():\n",
    "    print(f\"{product.capitalize()}: {quantity}\")"
   ]
  },
  {
   "cell_type": "code",
   "execution_count": null,
   "id": "9c58734b-b5ae-492b-8f4b-fe0d7ff9e58e",
   "metadata": {},
   "outputs": [],
   "source": []
  }
 ],
 "metadata": {
  "kernelspec": {
   "display_name": "Python 3 (ipykernel)",
   "language": "python",
   "name": "python3"
  },
  "language_info": {
   "codemirror_mode": {
    "name": "ipython",
    "version": 3
   },
   "file_extension": ".py",
   "mimetype": "text/x-python",
   "name": "python",
   "nbconvert_exporter": "python",
   "pygments_lexer": "ipython3",
   "version": "3.12.4"
  }
 },
 "nbformat": 4,
 "nbformat_minor": 5
}
